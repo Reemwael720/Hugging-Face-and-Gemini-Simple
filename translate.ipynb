{
 "cells": [
  {
   "cell_type": "code",
   "execution_count": null,
   "metadata": {},
   "outputs": [],
   "source": [
    "from transformers import MarianTokenizer, MarianMTModel"
   ]
  },
  {
   "cell_type": "code",
   "execution_count": null,
   "metadata": {},
   "outputs": [],
   "source": [
    "mname = \"marefa-nlp/marefa-mt-en-ar\"\n",
    "tokenizer = MarianTokenizer.from_pretrained(mname)\n",
    "model = MarianMTModel.from_pretrained(mname)\n",
    "# Move To GPU\n",
    "model.to(\"cuda\")"
   ]
  },
  {
   "cell_type": "code",
   "execution_count": null,
   "metadata": {},
   "outputs": [],
   "source": [
    "# Continuous input loop\n",
    "while True:\n",
    "    user_input = input(\"Enter your text (or type 'exit' to quit): \")\n",
    "    if user_input.lower() == 'exit':\n",
    "        break\n",
    "\n",
    "    # English Sample Text\n",
    "    translated_tokens = model.generate(**tokenizer.prepare_seq2seq_batch([user_input], return_tensors=\"pt\").to('cuda'))\n",
    "\n",
    "    # Perform inference without gradient computation\n",
    "    with torch.no_grad():\n",
    "      translated_text = [tokenizer.decode(t, skip_special_tokens=True) for t in translated_tokens]\n",
    "\n",
    "\n",
    "      # Output the predicted label\n",
    "    print(f\"Arabic Trransalation: {translated_text}\")\n"
   ]
  },
  {
   "cell_type": "raw",
   "metadata": {
    "vscode": {
     "languageId": "raw"
    }
   },
   "source": [
    "Enter your text (or type 'exit' to quit): hello\n",
    "/usr/local/lib/python3.10/dist-packages/transformers/tokenization_utils_base.py:4252: FutureWarning: \n",
    "`prepare_seq2seq_batch` is deprecated and will be removed in version 5 of HuggingFace Transformers. Use the regular\n",
    "`__call__` method to prepare your inputs and targets.\n",
    "\n",
    "Here is a short example:\n",
    "\n",
    "model_inputs = tokenizer(src_texts, text_target=tgt_texts, ...)\n",
    "\n",
    "If you either need to use different keyword arguments for the source and target texts, you should do two calls like\n",
    "this:\n",
    "\n",
    "model_inputs = tokenizer(src_texts, ...)\n",
    "labels = tokenizer(text_target=tgt_texts, ...)\n",
    "model_inputs[\"labels\"] = labels[\"input_ids\"]\n",
    "\n",
    "See the documentation of your specific tokenizer for more details on the specific arguments to the tokenizer of choice.\n",
    "For a more complete example, see the implementation of `prepare_seq2seq_batch`.\n",
    "\n",
    "  warnings.warn(formatted_warning, FutureWarning)\n",
    "Arabic Trransalation: ['آلوڤاي']\n",
    "Enter your text (or type 'exit' to quit): how are you\n",
    "Arabic Trransalation: ['كيف تكون']\n",
    "Enter your text (or type 'exit' to quit): i am so happy\n",
    "Arabic Trransalation: ['أنا سعيد جداً']\n",
    "Enter your text (or type 'exit' to quit): how was your first day at school?\n",
    "Arabic Trransalation: ['كيف كان يومك الأول في المدرسة؟']\n",
    "Enter your text (or type 'exit' to quit): exit"
   ]
  }
 ],
 "metadata": {
  "kernelspec": {
   "display_name": "Python 3",
   "language": "python",
   "name": "python3"
  },
  "language_info": {
   "codemirror_mode": {
    "name": "ipython",
    "version": 3
   },
   "file_extension": ".py",
   "mimetype": "text/x-python",
   "name": "python",
   "nbconvert_exporter": "python",
   "pygments_lexer": "ipython3",
   "version": "3.12.4"
  }
 },
 "nbformat": 4,
 "nbformat_minor": 2
}
