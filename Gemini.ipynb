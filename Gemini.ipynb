{
 "cells": [
  {
   "cell_type": "code",
   "execution_count": null,
   "metadata": {},
   "outputs": [],
   "source": [
    "from google.colab import userdata\n",
    "api_key = userdata.get('GEMINI_KEY')"
   ]
  },
  {
   "cell_type": "code",
   "execution_count": null,
   "metadata": {},
   "outputs": [],
   "source": [
    "import google.generativeai as genai\n",
    "\n",
    "genai.configure(api_key=api_key)"
   ]
  },
  {
   "cell_type": "code",
   "execution_count": null,
   "metadata": {},
   "outputs": [],
   "source": [
    "model = genai.GenerativeModel(\"gemini-1.5-flash\")"
   ]
  },
  {
   "cell_type": "code",
   "execution_count": null,
   "metadata": {},
   "outputs": [],
   "source": [
    "def summarize_text(prompt):\n",
    "  response = model.generate_content(prompt)\n",
    "\n",
    "  summary = response.text\n",
    "\n",
    "  return summary\n"
   ]
  },
  {
   "cell_type": "code",
   "execution_count": null,
   "metadata": {},
   "outputs": [
    {
     "name": "stdout",
     "output_type": "stream",
     "text": [
      "Enter the text you want summarized (or type 'exit' to quit): In recent years, climate change has become one of the most pressing global challenges. The rise in average global temperatures has led to an increase in the frequency and severity of extreme weather events such as hurricanes, wildfires, and droughts. As the polar ice caps melt, sea levels are rising, threatening coastal communities and ecosystems. In addition to environmental impacts, climate change also poses significant risks to human health, agriculture, and infrastructure.  Governments, businesses, and individuals are increasingly recognizing the importance of addressing climate change through both mitigation and adaptation strategies. Mitigation efforts focus on reducing greenhouse gas emissions by transitioning to renewable energy sources, improving energy efficiency, and promoting sustainable land use practices. On the other hand, adaptation strategies aim to enhance resilience to the effects of climate change, such as building flood defenses, developing drought-resistant crops, and improving early warning systems for extreme weather events.  The transition to a more sustainable future requires global cooperation and substantial investment in clean technologies and infrastructure. While progress has been made, much more needs to be done to meet international climate goals and prevent the most catastrophic impacts of climate change.\n",
      "Summary (<= 100 words): Climate change is a major global threat, causing rising temperatures, extreme weather, sea level rise, and impacting health, agriculture, and infrastructure.  Mitigation strategies aim to reduce greenhouse gas emissions through renewable energy, energy efficiency, and sustainable land use. Adaptation focuses on building resilience to climate impacts through flood defenses, drought-resistant crops, and early warning systems. Global cooperation and investment in clean technologies are crucial to transition to a sustainable future and prevent the worst effects of climate change. \n",
      "\n",
      "Enter the text you want summarized (or type 'exit' to quit): Sustainable development is an approach to growth that meets the needs of the present without compromising the ability of future generations to meet their own needs. It encompasses three main pillars: economic growth, social inclusion, and environmental protection. As populations continue to grow, the strain on natural resources has increased, leading to challenges such as deforestation, loss of biodiversity, and climate change.  To achieve sustainable development, governments, businesses, and individuals must work together to balance these three pillars. This involves adopting renewable energy sources, promoting fair labor practices, and encouraging responsible consumption and production patterns. Education and awareness play crucial roles in this process, as individuals and communities must be informed and empowered to make sustainable choices.  International organizations such as the United Nations have developed frameworks like the Sustainable Development Goals (SDGs) to guide global efforts in addressing these challenges. By fostering collaboration and innovation, it is possible to create a future that is not only prosperous but also equitable and sustainable for all.\n",
      "Summary (<= 100 words): Sustainable development aims to meet present needs without harming future generations, balancing economic growth, social inclusion, and environmental protection. Growing populations strain natural resources, posing challenges like deforestation and climate change. Achieving this goal requires collaboration between governments, businesses, and individuals through renewable energy, fair labor practices, and responsible consumption. Education and awareness are key to empowering sustainable choices, while international frameworks like the Sustainable Development Goals (SDGs) guide global efforts. This collaborative approach seeks to create a prosperous, equitable, and sustainable future for all. \n",
      "\n",
      "Enter the text you want summarized (or type 'exit' to quit): exit\n",
      "Exiting the summarization loop.\n"
     ]
    }
   ],
   "source": [
    "num_words = 200\n",
    "\n",
    "\n",
    "while True:\n",
    "    # Continuously take user input\n",
    "    text = input(\"Enter the text you want summarized (or type 'exit' to quit): \")\n",
    "\n",
    "    if text.lower() == 'exit':\n",
    "        print(\"Exiting the summarization loop.\")\n",
    "        break\n",
    "\n",
    "    # Create the prompt with the user-provided text and word limit\n",
    "    prompt = f\"\"\"\n",
    "    Your task is text summarization.\n",
    "    I'll give you full text. And your job is to summarize it in less than {num_words} words.\n",
    "    The text is shown below, delimited by triple backticks.\n",
    "    ```{text}```\n",
    "    \"\"\"\n",
    "\n",
    "    # Call the summarization function (replace with actual implementation)\n",
    "    summary = summarize_text(prompt)\n",
    "\n",
    "    # Output the summary\n",
    "    print(f\"Summary (<= {num_words} words): {summary}\")"
   ]
  }
 ],
 "metadata": {
  "language_info": {
   "name": "python"
  }
 },
 "nbformat": 4,
 "nbformat_minor": 2
}
